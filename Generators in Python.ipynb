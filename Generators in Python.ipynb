{
 "cells": [
  {
   "cell_type": "code",
   "execution_count": 1,
   "id": "descending-glucose",
   "metadata": {},
   "outputs": [
    {
     "name": "stdout",
     "output_type": "stream",
     "text": [
      "Printed First\n",
      "1\n",
      "Printed Second\n",
      "2\n",
      "Printed Third\n",
      "3\n"
     ]
    }
   ],
   "source": [
    "def G():\n",
    "    n=1\n",
    "    print('Printed First')\n",
    "    yield n\n",
    "    n+=1\n",
    "    print('Printed Second')\n",
    "    yield n\n",
    "    n+=1\n",
    "    print('Printed Third')\n",
    "    yield n\n",
    "for i in G():\n",
    "    print(i)"
   ]
  },
  {
   "cell_type": "code",
   "execution_count": 2,
   "id": "anonymous-canvas",
   "metadata": {},
   "outputs": [
    {
     "name": "stdout",
     "output_type": "stream",
     "text": [
      "[0, 1, 2, 3, 4, 5, 6, 7, 8, 9, 10]\n"
     ]
    }
   ],
   "source": [
    "def Gen(n):\n",
    "    try:\n",
    "        number=0\n",
    "        while number<n:\n",
    "            yield number\n",
    "            number+=1\n",
    "    finally:\n",
    "        yield n\n",
    "print(list(Gen(10)))"
   ]
  },
  {
   "cell_type": "code",
   "execution_count": 4,
   "id": "uniform-episode",
   "metadata": {},
   "outputs": [
    {
     "name": "stdout",
     "output_type": "stream",
     "text": [
      "o\n",
      "l\n",
      "l\n",
      "e\n",
      "H\n"
     ]
    }
   ],
   "source": [
    "def word(str):\n",
    "    length=len(str)\n",
    "    for i in range(length -1,-1,-1):\n",
    "        yield str[i]\n",
    "for w in word('Hello'):\n",
    "    print(w)"
   ]
  },
  {
   "cell_type": "code",
   "execution_count": 9,
   "id": "damaged-buffer",
   "metadata": {},
   "outputs": [
    {
     "name": "stdout",
     "output_type": "stream",
     "text": [
      "0\n",
      "1\n",
      "2\n",
      "3\n",
      "4\n",
      "5\n",
      "6\n",
      "7\n",
      "8\n",
      "9\n"
     ]
    }
   ],
   "source": [
    "def Generator(x):\n",
    "    number=0\n",
    "    while number<x:\n",
    "        yield number\n",
    "        number+=1\n",
    "g=Generator(10)\n",
    "counter=0\n",
    "while counter<10:\n",
    "    print(next(g))\n",
    "    counter+=1"
   ]
  },
  {
   "cell_type": "code",
   "execution_count": 13,
   "id": "structural-shirt",
   "metadata": {},
   "outputs": [
    {
     "name": "stdout",
     "output_type": "stream",
     "text": [
      "0\n",
      "1 x 1 =\n",
      "1\n",
      "2 x 2 =\n",
      "4\n",
      "3 x 3 =\n",
      "9\n",
      "4 x 4 =\n",
      "16\n",
      "5 x 5 =\n",
      "25\n",
      "6 x 6 =\n",
      "36\n",
      "7 x 7 =\n",
      "49\n",
      "8 x 8 =\n",
      "64\n",
      "9 x 9 =\n",
      "81\n",
      "10 x 10 =\n",
      "100\n",
      "11 x 11 =\n",
      "121\n",
      "12 x 12 =\n",
      "144\n",
      "13 x 13 =\n",
      "169\n",
      "14 x 14 =\n",
      "196\n",
      "15 x 15 =\n",
      "225\n",
      "16 x 16 =\n",
      "256\n",
      "17 x 17 =\n",
      "289\n",
      "18 x 18 =\n",
      "324\n",
      "19 x 19 =\n",
      "361\n",
      "20 x 20 =\n",
      "400\n"
     ]
    }
   ],
   "source": [
    "def square():\n",
    "    num=0\n",
    "    while num<=100:\n",
    "        sq=num*num\n",
    "        yield sq\n",
    "        num+=1\n",
    "        if num>=21:\n",
    "            break\n",
    "        else:\n",
    "            print(num,'x',num,'=')\n",
    "val=square()\n",
    "for i in val:\n",
    "    print(i)"
   ]
  }
 ],
 "metadata": {
  "kernelspec": {
   "display_name": "Python 3",
   "language": "python",
   "name": "python3"
  },
  "language_info": {
   "codemirror_mode": {
    "name": "ipython",
    "version": 3
   },
   "file_extension": ".py",
   "mimetype": "text/x-python",
   "name": "python",
   "nbconvert_exporter": "python",
   "pygments_lexer": "ipython3",
   "version": "3.8.7"
  }
 },
 "nbformat": 4,
 "nbformat_minor": 5
}
